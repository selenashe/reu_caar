{
 "cells": [
  {
   "cell_type": "code",
   "execution_count": null,
   "id": "31d40d80",
   "metadata": {},
   "outputs": [],
   "source": [
    "from deepface import DeepFace\n",
    "import matplotlib.pyplot as plt\n",
    "import cv2\n",
    "import os"
   ]
  },
  {
   "cell_type": "code",
   "execution_count": null,
   "id": "2a160f44",
   "metadata": {},
   "outputs": [],
   "source": [
    "image_path = 'examples/fairface_dataset/val'\n",
    "label_path = 'datasets/cleaned_fairface_label_val.csv'\n",
    "\n",
    "classifier_results = {}\n",
    "for file in os.listdir(image_path):\n",
    "    objs = DeepFace.analyze(img_path = image_path + \"/\" + file, \n",
    "            actions = ['gender', 'race'], enforce_detection = False\n",
    "    )\n",
    "    name = \"val/\" + file\n",
    "    classifier_results[name] = [objs[0]['dominant_gender'], objs[0]['dominant_race'], objs[0]['race']]"
   ]
  },
  {
   "cell_type": "code",
   "execution_count": null,
   "id": "b92bc541",
   "metadata": {},
   "outputs": [],
   "source": [
    "myKeys = list(classifier_results.keys())\n",
    "myKeys.sort()"
   ]
  },
  {
   "cell_type": "code",
   "execution_count": null,
   "id": "0774e834",
   "metadata": {},
   "outputs": [],
   "source": [
    "import pandas as pd\n",
    "\n",
    "labels_df = pd.read_csv(label_path)\n",
    "lines = len(labels_df['file'])\n",
    "print(lines)"
   ]
  },
  {
   "cell_type": "code",
   "execution_count": null,
   "id": "c01b21dd",
   "metadata": {},
   "outputs": [],
   "source": [
    "groundtruth_dict = {}\n",
    "for i in range(lines):\n",
    "    filename = labels_df['file'][i]\n",
    "    gender_label = labels_df['gender'][i]\n",
    "    race_label = labels_df['race'][i]\n",
    "    \n",
    "    groundtruth_dict[filename] = [gender_label, race_label]"
   ]
  },
  {
   "cell_type": "code",
   "execution_count": null,
   "id": "95e49a80",
   "metadata": {},
   "outputs": [],
   "source": [
    "groundtruth_keys = list(groundtruth_dict.keys())\n",
    "groundtruth_keys.sort()"
   ]
  },
  {
   "cell_type": "code",
   "execution_count": null,
   "id": "fef38ca9",
   "metadata": {},
   "outputs": [],
   "source": [
    "files = 0\n",
    "correctGender = 0\n",
    "correctRace = 0\n",
    "\n",
    "incorrectGender = {}\n",
    "incorrectRace = {}\n",
    "for filename in myKeys:\n",
    "    files += 1\n",
    "    if groundtruth_dict[filename][0] == classifier_results[filename][0]:\n",
    "        correctGender += 1\n",
    "    else: \n",
    "        incorrectGender[filename] = [\"GT: \" + groundtruth_dict[filename][0] + \", Predicted: \" + classifier_results[filename][0]]\n",
    "        \n",
    "    if groundtruth_dict[filename][1] == classifier_results[filename][1]:\n",
    "        correctRace += 1\n",
    "    else: \n",
    "        incorrectRace[filename] = [\"GT: \" + groundtruth_dict[filename][1] + \", Predicted: \" + classifier_results[filename][1] + \", Race Confidence: \" + str(results[filename][2])]\n",
    "\n",
    "print(str(correctGender/files) + \" \" + str(correctRace/files))"
   ]
  },
  {
   "cell_type": "code",
   "execution_count": null,
   "id": "d51010df",
   "metadata": {},
   "outputs": [],
   "source": [
    "for file in incorrectGender.keys():\n",
    "    print(file + \", \" + str(incorrectGender[file]))"
   ]
  },
  {
   "cell_type": "code",
   "execution_count": null,
   "id": "07b56349",
   "metadata": {},
   "outputs": [],
   "source": [
    "for file in incorrectRace.keys():\n",
    "    print(file + \", \" + str(incorrectRace[file]) + \"\\n\")"
   ]
  },
  {
   "cell_type": "code",
   "execution_count": null,
   "id": "02f98fdc",
   "metadata": {},
   "outputs": [],
   "source": []
  }
 ],
 "metadata": {
  "kernelspec": {
   "display_name": "Python 3 (ipykernel)",
   "language": "python",
   "name": "python3"
  },
  "language_info": {
   "codemirror_mode": {
    "name": "ipython",
    "version": 3
   },
   "file_extension": ".py",
   "mimetype": "text/x-python",
   "name": "python",
   "nbconvert_exporter": "python",
   "pygments_lexer": "ipython3",
   "version": "3.11.2"
  }
 },
 "nbformat": 4,
 "nbformat_minor": 5
}
