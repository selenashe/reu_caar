{
 "cells": [
  {
   "cell_type": "code",
   "execution_count": 1,
   "id": "f0d9b85b",
   "metadata": {},
   "outputs": [],
   "source": [
    "from fairface import Fairface\n",
    "import os"
   ]
  },
  {
   "cell_type": "code",
   "execution_count": null,
   "id": "bc990830",
   "metadata": {},
   "outputs": [],
   "source": [
    "cropped_image_save_path = 'examples/fairface_val'\n",
    "\n",
    "results = {}"
   ]
  },
  {
   "cell_type": "code",
   "execution_count": null,
   "id": "fbfcf279",
   "metadata": {},
   "outputs": [],
   "source": [
    "for file in os.listdir(cropped_image_save_path):\n",
    "    objs = DeepFace.analyze(img_path = cropped_image_save_path + \"/\" + file, \n",
    "            actions = ['gender', 'race'], enforce_detection = False\n",
    "    )\n",
    "    print(objs)\n",
    "    results[file] = objs[0]['dominant_gender'] + \" \" + objs[0]['dominant_race']"
   ]
  },
  {
   "cell_type": "code",
   "execution_count": null,
   "id": "96b75e69",
   "metadata": {},
   "outputs": [],
   "source": [
    "myKeys = list(results.keys())\n",
    "myKeys.sort()\n",
    "for i in myKeys:\n",
    "    print(i + \": \" + results[i] +\"\\n\")\n",
    "sorted_dict = {i: results[i] for i in myKeys}"
   ]
  }
 ],
 "metadata": {
  "kernelspec": {
   "display_name": "Python 3 (ipykernel)",
   "language": "python",
   "name": "python3"
  },
  "language_info": {
   "codemirror_mode": {
    "name": "ipython",
    "version": 3
   },
   "file_extension": ".py",
   "mimetype": "text/x-python",
   "name": "python",
   "nbconvert_exporter": "python",
   "pygments_lexer": "ipython3",
   "version": "3.11.2"
  }
 },
 "nbformat": 4,
 "nbformat_minor": 5
}
